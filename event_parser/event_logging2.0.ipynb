{
    "cells": [
        {
            "cell_type": "code",
            "execution_count": 1,
            "metadata": {},
            "outputs": [],
            "source": [
                "#fake event logs\n",
                "import os,binascii\n",
                "import random\n",
                "l=[]\n",
                "Class_of_event=['1','2','3','4','5','6','7','8','9','A','b','c','d','e','f']\n",
                "type_of_event=['1','2','3','4','5','6','7','8','9','A','b','c','d','e','f']\n",
                "\n",
                "events = random.choices(population=Class_of_event, k=512)\n",
                "specific_events =random.choices(population=type_of_event, k=512)\n",
                "operations=[\"{}{}\".format(b_, a_) for a_, b_ in zip(events, specific_events)]\n",
                "for i in range(512):\n",
                "    l.append (binascii.b2a_hex(os.urandom(7)))\n",
                "l.sort()"
            ]
        },
        {
            "cell_type": "code",
            "execution_count": 208,
            "metadata": {},
            "outputs": [],
            "source": [
                "def initialise_list_of_events(config_file):\r\n",
                "    import json\r\n",
                "    with open(config_file) as f:\r\n",
                "        return (json.load(f))"
            ]
        },
        {
            "cell_type": "code",
            "execution_count": 209,
            "metadata": {},
            "outputs": [],
            "source": [
                "list_of_classes=initialise_list_of_events('events.json')\r\n",
                "#events.json in the config file"
            ]
        },
        {
            "cell_type": "code",
            "execution_count": 210,
            "metadata": {},
            "outputs": [],
            "source": [
                "class Event:\r\n",
                "    def __init__(self, \r\n",
                "                class_of_operation, operation, t, data):\r\n",
                "        self.c = class_of_operation\r\n",
                "        self.o= operation\r\n",
                "        self.t = t\r\n",
                "        self.data= data"
            ]
        },
        {
            "cell_type": "code",
            "execution_count": 211,
            "metadata": {},
            "outputs": [],
            "source": [
                "def extract_data(file_path):\r\n",
                "    import struct\r\n",
                "    from pathlib import Path\r\n",
                "    size_of_file= Path(file_path).stat().st_size\r\n",
                "    with open(file_path, 'rb') as file:\r\n",
                "        c=file.read()\r\n",
                "    liste=[]\r\n",
                "    i=0\r\n",
                "    t0= struct.unpack('B', b'\\x00')[0]\r\n",
                "\r\n",
                "\r\n",
                "    while (i<size_of_file):\r\n",
                "        data=''\r\n",
                "        \r\n",
                "        b1= struct.unpack('B',c[i:i+1])[0] \r\n",
                "                      \r\n",
                "        t2= struct.unpack('>B', c[i+1:i+2])[0]\r\n",
                "        t3= struct.unpack('>B', c[i+2:i+3])[0]\r\n",
                "        t4= struct.unpack('>B', c[i+3:i+4])[0]\r\n",
                "        t5= struct.unpack('>B', c[i+4:i+5])[0]\r\n",
                "        t6= struct.unpack('>B', c[i+5:i+6])[0]\r\n",
                "        t7= struct.unpack('>B', c[i+6:i+7])[0]  \r\n",
                "        t8= struct.unpack('>B', c[i+7:i+8])[0]\r\n",
                "        timestamp= struct.unpack('>Q', struct.pack('>8B', t0 , t2, t3 , t4 , t5 , t6 , t7 , t8))[0]\r\n",
                "        i+=8\r\n",
                "        \r\n",
                "        if (b1//16==6):   #  (to deal with the debugging event)\r\n",
                "            data_bytes = int(list_of_classes['6']['operations'][str(b1%16)]['data-width']/8)  #number of bytes to consider\r\n",
                "            if data_bytes==4:\r\n",
                "                data= struct.unpack('>L', c[i:i+4])[0]\r\n",
                "                i+=4\r\n",
                "            elif data_bytes==8:\r\n",
                "                data= struct.unpack('>Q', c[i:i+8])[0]\r\n",
                "                i+=8\r\n",
                "            \r\n",
                "        \r\n",
                "        liste.append(Event(b1//16, b1%16 ,timestamp,data))\r\n",
                "    \r\n",
                "    return(liste)\r\n",
                "    "
            ]
        },
        {
            "cell_type": "code",
            "execution_count": 213,
            "metadata": {},
            "outputs": [
                {
                    "name": "stdout",
                    "output_type": "stream",
                    "text": [
                        "6 // 0 // 4822678189205026 // 2 \n",
                        "\n",
                        "**************** \n",
                        "\n",
                        "1 // 1 // 4822678189205060 //  \n",
                        "\n",
                        "**************** \n",
                        "\n",
                        "6 // 1 // 4822678189205094 // 257 \n",
                        "\n",
                        "**************** \n",
                        "\n",
                        "3 // 2 // 4822678189205128 //  \n",
                        "\n",
                        "**************** \n",
                        "\n"
                    ]
                }
            ],
            "source": [
                "for i in (extract_data('event_stream1.bin')):\n",
                "    print(i.c ,'//', i.o , '//', i.t ,'//',i.data, '\\n')\n",
                "    print('**************** \\n')\n"
            ]
        },
        {
            "cell_type": "code",
            "execution_count": 197,
            "metadata": {},
            "outputs": [
                {
                    "data": {
                        "text/plain": [
                            "5029386375226914"
                        ]
                    },
                    "execution_count": 197,
                    "metadata": {},
                    "output_type": "execute_result"
                }
            ],
            "source": [
                "x=extract_data('event_stream1.bin')\n",
                "x[0].t"
            ]
        },
        {
            "cell_type": "code",
            "execution_count": 168,
            "metadata": {},
            "outputs": [],
            "source": [
                "def research_of_a_specific_class(x):\n",
                "    wanted_type_of_operation=[]\n",
                "    l=extract_data()\n",
                "    for i in l:\n",
                "        if i.c == x:\n",
                "            wanted_type_of_operation.append(i)\n",
                "           # print('RTC packet number' , len(RTC_packet_list) , 'took',  i.t, 'ns')\n",
                "    return(wanted_type_of_operation)"
            ]
        },
        {
            "cell_type": "code",
            "execution_count": 169,
            "metadata": {},
            "outputs": [],
            "source": [
                "def percentage_of_class(x):\n",
                "    l=extract_data()\n",
                "    return( round(len(research_of_a_specific_class(x)) / len(l) ,3))"
            ]
        },
        {
            "cell_type": "code",
            "execution_count": 170,
            "metadata": {},
            "outputs": [
                {
                    "data": {
                        "text/plain": [
                            "0.5"
                        ]
                    },
                    "execution_count": 170,
                    "metadata": {},
                    "output_type": "execute_result"
                }
            ],
            "source": [
                "percentage_of_class(6)"
            ]
        },
        {
            "cell_type": "code",
            "execution_count": 171,
            "metadata": {},
            "outputs": [],
            "source": [
                "def type_of_operation(E):\n",
                "    list_of_classs=initialise_list_of_events()\n",
                "    if E.c in (list_of_classes['main_classes']):\n",
                "        classs=list_of_classes[str(E.c)]['designation']\n",
                "        typee= list_of_classes[str(E.c)]['operations'][str(E.o)]['designation']\n",
                "    \n",
                "    elif (E.c in ['a','b','c','d','e','f']):\n",
                "        classs= 'costumised operations'\n",
                "        \n",
                "    else:\n",
                "        print(\"indefined type of event\")    \n",
                "        \n",
                "    print(classs,typee)\n",
                "        \n",
                "    "
            ]
        },
        {
            "cell_type": "code",
            "execution_count": 172,
            "metadata": {},
            "outputs": [
                {
                    "name": "stdout",
                    "output_type": "stream",
                    "text": [
                        "Debugging events event 0\n"
                    ]
                }
            ],
            "source": [
                "type_of_operation(l[0])"
            ]
        },
        {
            "cell_type": "code",
            "execution_count": 173,
            "metadata": {},
            "outputs": [
                {
                    "data": {
                        "text/plain": [
                            "32"
                        ]
                    },
                    "execution_count": 173,
                    "metadata": {},
                    "output_type": "execute_result"
                }
            ],
            "source": [
                "list_of_classes['6']['operations']['0']['data-width']"
            ]
        },
        {
            "cell_type": "code",
            "execution_count": 174,
            "metadata": {},
            "outputs": [
                {
                    "data": {
                        "text/plain": [
                            "'event 0'"
                        ]
                    },
                    "execution_count": 174,
                    "metadata": {},
                    "output_type": "execute_result"
                }
            ],
            "source": [
                "list_of_classes[str(l[0].c)]['operations'][str(l[0].o)]['designation']\n",
                "\n"
            ]
        },
        {
            "cell_type": "code",
            "execution_count": 175,
            "metadata": {},
            "outputs": [],
            "source": [
                "def pie_appearancee_of_operations():\r\n",
                "    import matplotlib.pyplot as plt\r\n",
                "    list_of_classs=initialise_list_of_events()\r\n",
                "    \r\n",
                "    classs=[]\r\n",
                "    p=[]\r\n",
                "    \r\n",
                "    for i in list_of_classs['main_classes']:\r\n",
                "        classs.append(list_of_classs[str(i)]['designation'] )\r\n",
                "        p.append(percentage_of_class(i))\r\n",
                "    classs.append(\"costumer events\")\r\n",
                "    p.append(1 - sum (p))\r\n",
                "    #y = np.array(p)\r\n",
                "    plt.figure(figsize=(20 , 10))\r\n",
                "    plt.pie(p, labels = classs,pctdistance = 0.7, autopct = lambda p: str(round(p,2)) + '%',)\r\n",
                "    plt.legend(loc=\"upper right\", title= \"Classes of events\", bbox_to_anchor=(1, 0, 0.5, 1))\r\n",
                "\r\n",
                "    plt.show() \r\n",
                "    return (p)   "
            ]
        },
        {
            "cell_type": "code",
            "execution_count": 176,
            "metadata": {},
            "outputs": [
                {
                    "data": {
                        "image/png": "[encoded data removed]",
                        "text/plain": [
                            "<Figure size 1440x720 with 1 Axes>"
                        ]
                    },
                    "metadata": {},
                    "output_type": "display_data"
                },
                {
                    "data": {
                        "text/plain": [
                            "[0.25, 0.0, 0.25, 0.0, 0.0, 0.5, 0.0, 0.0]"
                        ]
                    },
                    "execution_count": 176,
                    "metadata": {},
                    "output_type": "execute_result"
                }
            ],
            "source": [
                "pie_appearancee_of_operations()"
            ]
        },
        {
            "cell_type": "code",
            "execution_count": 227,
            "metadata": {},
            "outputs": [],
            "source": [
                "def visualize_timestamps_of_operations(file_path):\n",
                "    l=extract_data(file_path)\n",
                "\n",
                "    import matplotlib.pyplot as plt\n",
                "    list_of_classes=initialise_list_of_events()\n",
                "    plt.figure(figsize=(20 , 10))\n",
                "\n",
                "\n",
                "    for i in range(len(l)) :\n",
                "        \n",
                "        plt.plot(i+1, l[i].t, marker = 'o', color=list_of_classes[str(l[i].c)]['color'])\n",
                "    plt.ylabel(\"t\")\n",
                "    plt.ylim([4822678189205000 , 4822678189205400 ])\n",
                "\n",
                "    plt.xlabel(\"Number of operation\")\n",
                "    plt.grid()\n",
                "    plt.savefig('visualize_timestamps_of_operations.png')\n",
                "    plt.show()\n"
            ]
        },
        {
            "cell_type": "code",
            "execution_count": 228,
            "metadata": {},
            "outputs": [
                {
                    "data": {
                        "image/png": "[encoded data removed]",
                        "text/plain": [
                            "<Figure size 1440x720 with 1 Axes>"
                        ]
                    },
                    "metadata": {
                        "needs_background": "light"
                    },
                    "output_type": "display_data"
                }
            ],
            "source": [
                "visualize_timestamps_of_operations('event_stream1.bin')"
            ]
        },
        {
            "cell_type": "code",
            "execution_count": null,
            "metadata": {},
            "outputs": [],
            "source": []
        },
        {
            "cell_type": "code",
            "execution_count": null,
            "metadata": {},
            "outputs": [],
            "source": []
        }
    ],
    "metadata": {
        "interpreter": {
            "hash": "b3ba2566441a7c06988d0923437866b63cedc61552a5af99d1f4fb67d367b25f"
        },
        "kernelspec": {
            "display_name": "Python 3.8.3 64-bit ('base': conda)",
            "name": "python3"
        },
        "language_info": {
            "name": "python",
            "version": ""
        },
        "metadata": {
            "interpreter": {
                "hash": "b3ba2566441a7c06988d0923437866b63cedc61552a5af99d1f4fb67d367b25f"
            }
        }
    },
    "nbformat": 4,
    "nbformat_minor": 4
}